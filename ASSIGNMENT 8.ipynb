{
 "cells": [
  {
   "cell_type": "code",
   "execution_count": 1,
   "id": "a8ceb720-20b0-49ef-9dc9-41eb59db3f85",
   "metadata": {},
   "outputs": [
    {
     "name": "stdin",
     "output_type": "stream",
     "text": [
      "Enter your age: 33\n",
      "Enter your Height: 1.80\n",
      "Enter your name: MICHAEL ADOLE UDAMA\n",
      "Are you a student: TRUE\n"
     ]
    }
   ],
   "source": [
    "#Data Type Identification\n",
    "\n",
    "var1 = int(input('Enter your age:'))\n",
    "var2 = float(input('Enter your Height:'))\n",
    "var3 = str(input('Enter your name:'))\n",
    "var4 = bool(input('Are you a student:'))"
   ]
  },
  {
   "cell_type": "code",
   "execution_count": 4,
   "id": "f19a3760-4f64-4cb6-8225-a19a9846c7b4",
   "metadata": {},
   "outputs": [
    {
     "name": "stdout",
     "output_type": "stream",
     "text": [
      "Welcome, Coach!\n"
     ]
    }
   ],
   "source": [
    "#Function Creation\n",
    "\n",
    "\n",
    "def greet_user(name):\n",
    "    return f\"Welcome, {name}!\"\n",
    "message = greet_user(\"Coach\")\n",
    "print(message)"
   ]
  },
  {
   "cell_type": "code",
   "execution_count": 5,
   "id": "3c86f52d-7864-4f5b-87b0-0a8609e38814",
   "metadata": {},
   "outputs": [
    {
     "name": "stdin",
     "output_type": "stream",
     "text": [
      "Enter username:  admin\n",
      "Enter password:  1234\n"
     ]
    },
    {
     "name": "stdout",
     "output_type": "stream",
     "text": [
      "Login successful\n"
     ]
    }
   ],
   "source": [
    "#Mini Login System (Input + Conditions)\n",
    "\n",
    "def login():\n",
    "    username = input(\"Enter username: \")\n",
    "    password = input(\"Enter password: \")\n",
    "\n",
    "    if username == \"admin\" and password == \"1234\":\n",
    "        print(\"Login successful\")\n",
    "    else:\n",
    "        print(\"Access denied\")\n"
   ]
  },
  {
   "cell_type": "code",
   "execution_count": 8,
   "id": "37ddbcbe-6e6e-4596-a948-4447cdf1e80a",
   "metadata": {},
   "outputs": [
    {
     "name": "stdin",
     "output_type": "stream",
     "text": [
      "Enter your age:  33\n"
     ]
    },
    {
     "name": "stdout",
     "output_type": "stream",
     "text": [
      "Category: Adult\n"
     ]
    }
   ],
   "source": [
    "#Age Categorizer\n",
    "\n",
    "\n",
    "def age_category():\n",
    "    try:\n",
    "        age = int(input(\"Enter your age: \"))\n",
    "\n",
    "        if age < 0:\n",
    "            print(\"Age cannot be negative.\")\n",
    "        elif age <= 12:\n",
    "            print(\"Category: Child\")\n",
    "        elif age <= 19:\n",
    "            print(\"Category: Teen\")\n",
    "        elif age <= 64:\n",
    "            print(\"Category: Adult\")\n",
    "        else:\n",
    "            print(\"Category: Senior\")\n",
    "    except ValueError:\n",
    "        print(\"Invalid input. Please enter a valid number.\")\n",
    "age_category()\n"
   ]
  },
  {
   "cell_type": "code",
   "execution_count": null,
   "id": "53b3e823-c972-49e9-ad17-8382c9d36718",
   "metadata": {},
   "outputs": [],
   "source": []
  },
  {
   "cell_type": "code",
   "execution_count": null,
   "id": "314c5aeb-7e8c-413a-b244-49c0721054f3",
   "metadata": {},
   "outputs": [],
   "source": []
  }
 ],
 "metadata": {
  "kernelspec": {
   "display_name": "Python 3 (ipykernel)",
   "language": "python",
   "name": "python3"
  },
  "language_info": {
   "codemirror_mode": {
    "name": "ipython",
    "version": 3
   },
   "file_extension": ".py",
   "mimetype": "text/x-python",
   "name": "python",
   "nbconvert_exporter": "python",
   "pygments_lexer": "ipython3",
   "version": "3.12.7"
  }
 },
 "nbformat": 4,
 "nbformat_minor": 5
}
